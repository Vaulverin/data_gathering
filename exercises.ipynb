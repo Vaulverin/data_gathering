{
 "cells": [
  {
   "cell_type": "code",
   "execution_count": 1,
   "metadata": {
    "collapsed": true
   },
   "outputs": [],
   "source": [
    "## Numpy"
   ]
  },
  {
   "cell_type": "markdown",
   "metadata": {},
   "source": [
    "Импортировать NumPy под именем np"
   ]
  },
  {
   "cell_type": "code",
   "execution_count": 2,
   "metadata": {
    "collapsed": true
   },
   "outputs": [],
   "source": [
    "import numpy as np  "
   ]
  },
  {
   "cell_type": "markdown",
   "metadata": {},
   "source": [
    "Создать вектор (одномерный массив) размера 10, заполненный нулями"
   ]
  },
  {
   "cell_type": "code",
   "execution_count": 3,
   "metadata": {
    "collapsed": true
   },
   "outputs": [],
   "source": [
    "zeros = np.zeros(10)"
   ]
  },
  {
   "cell_type": "markdown",
   "metadata": {},
   "source": [
    "Создать вектор размера 10, заполненный единицами"
   ]
  },
  {
   "cell_type": "code",
   "execution_count": 6,
   "metadata": {
    "collapsed": true
   },
   "outputs": [],
   "source": [
    "ones = np.ones(10)"
   ]
  },
  {
   "cell_type": "markdown",
   "metadata": {},
   "source": [
    "Создать вектор размера 10, заполненный числом 2.5"
   ]
  },
  {
   "cell_type": "code",
   "execution_count": 8,
   "metadata": {
    "collapsed": true
   },
   "outputs": [],
   "source": [
    "arr_2_5 = np.ones(10) * 2.5"
   ]
  },
  {
   "cell_type": "markdown",
   "metadata": {},
   "source": [
    "Создать вектор размера 10, заполненный нулями, но пятый элемент равен 1"
   ]
  },
  {
   "cell_type": "code",
   "execution_count": 10,
   "metadata": {},
   "outputs": [
    {
     "name": "stdout",
     "output_type": "stream",
     "text": [
      "[ 0.  0.  0.  0.  1.  0.  0.  0.  0.  0.]\n"
     ]
    }
   ],
   "source": [
    "arr_0_1 = np.zeros(10)\n",
    "arr_0_1[4] = 1\n",
    "print(arr_0_1)"
   ]
  },
  {
   "cell_type": "markdown",
   "metadata": {},
   "source": [
    "Развернуть вектор (первый становится последним)"
   ]
  },
  {
   "cell_type": "code",
   "execution_count": 11,
   "metadata": {},
   "outputs": [
    {
     "name": "stdout",
     "output_type": "stream",
     "text": [
      "[9 8 7 6 5 4 3 2 1 0]\n"
     ]
    }
   ],
   "source": [
    "v = np.arange(10)\n",
    "print(v[::-1])"
   ]
  },
  {
   "cell_type": "markdown",
   "metadata": {},
   "source": [
    "Создать матрицу (двумерный массив) 3x3 со значениями от 0 до 8"
   ]
  },
  {
   "cell_type": "code",
   "execution_count": 12,
   "metadata": {},
   "outputs": [
    {
     "name": "stdout",
     "output_type": "stream",
     "text": [
      "[[0 1 2]\n",
      " [3 4 5]\n",
      " [6 7 8]]\n"
     ]
    }
   ],
   "source": [
    "m = np.arange(9).reshape((3,3))\n",
    "print(m)"
   ]
  },
  {
   "cell_type": "markdown",
   "metadata": {},
   "source": [
    "Найти индексы ненулевых элементов в [1,2,0,0,4,0]"
   ]
  },
  {
   "cell_type": "code",
   "execution_count": 14,
   "metadata": {},
   "outputs": [
    {
     "name": "stdout",
     "output_type": "stream",
     "text": [
      "(array([0, 1, 4], dtype=int64),)\n"
     ]
    }
   ],
   "source": [
    "arr = [1,2,0,0,4,0]\n",
    "print(np.nonzero(arr))"
   ]
  },
  {
   "cell_type": "markdown",
   "metadata": {},
   "source": [
    "Создать 3x3 единичную матрицу"
   ]
  },
  {
   "cell_type": "code",
   "execution_count": 15,
   "metadata": {},
   "outputs": [
    {
     "name": "stdout",
     "output_type": "stream",
     "text": [
      "[[ 1.  1.  1.]\n",
      " [ 1.  1.  1.]\n",
      " [ 1.  1.  1.]]\n"
     ]
    }
   ],
   "source": [
    "print(np.ones((3,3)))"
   ]
  },
  {
   "cell_type": "markdown",
   "metadata": {},
   "source": [
    "Создать массив 3x3x3 со случайными значениями"
   ]
  },
  {
   "cell_type": "code",
   "execution_count": 16,
   "metadata": {},
   "outputs": [
    {
     "name": "stdout",
     "output_type": "stream",
     "text": [
      "[[[ 0.05291446  0.50290663  0.80036424]\n",
      "  [ 0.12125968  0.10811646  0.4402556 ]\n",
      "  [ 0.6464682   0.35573254  0.34159737]]\n",
      "\n",
      " [[ 0.12317795  0.7220338   0.64850992]\n",
      "  [ 0.15703045  0.97488651  0.43157921]\n",
      "  [ 0.65337262  0.18340062  0.33072625]]\n",
      "\n",
      " [[ 0.86830231  0.16574906  0.31098097]\n",
      "  [ 0.97816345  0.75208798  0.71138423]\n",
      "  [ 0.84447702  0.67622769  0.16006096]]]\n"
     ]
    }
   ],
   "source": [
    "print(np.random.random((3,3,3)))"
   ]
  },
  {
   "cell_type": "markdown",
   "metadata": {},
   "source": [
    "Создать случайный вектор размера 30 и найти среднее значение всех элементов"
   ]
  },
  {
   "cell_type": "code",
   "execution_count": 22,
   "metadata": {},
   "outputs": [
    {
     "name": "stdout",
     "output_type": "stream",
     "text": [
      "0.479932157139\n"
     ]
    }
   ],
   "source": [
    "arr = np.random.random(30)\n",
    "print(arr.mean())"
   ]
  },
  {
   "cell_type": "markdown",
   "metadata": {},
   "source": [
    "Перемножить матрицы 5x3 и 3x2"
   ]
  },
  {
   "cell_type": "code",
   "execution_count": 44,
   "metadata": {},
   "outputs": [
    {
     "name": "stdout",
     "output_type": "stream",
     "text": [
      "[[ 1.23590838  0.07598143]\n",
      " [ 0.51153753  0.05147008]\n",
      " [ 0.98217844  0.08626763]\n",
      " [ 1.47858654  0.11067652]\n",
      " [ 0.49401952  0.06196259]]\n"
     ]
    }
   ],
   "source": [
    "m1 = np.matrix(np.random.random((5,3)))\n",
    "m2 = np.matrix((np.random.random((3,2))))\n",
    "print(m1 * m2)"
   ]
  },
  {
   "cell_type": "markdown",
   "metadata": {},
   "source": [
    "Создать вектор размера 10 со значениями от 0 до 1, не включая ни то, ни другое"
   ]
  },
  {
   "cell_type": "code",
   "execution_count": 45,
   "metadata": {},
   "outputs": [
    {
     "name": "stdout",
     "output_type": "stream",
     "text": [
      "[ 0.36498218  0.8715001   0.71648888  0.24915806  0.03638813  0.44588685\n",
      "  0.16222269  0.61416405  0.85809676  0.24315025]\n"
     ]
    }
   ],
   "source": [
    "print(np.random.random(10))"
   ]
  },
  {
   "cell_type": "markdown",
   "metadata": {},
   "source": [
    "Заменить максимальный элемент на ноль"
   ]
  },
  {
   "cell_type": "code",
   "execution_count": 47,
   "metadata": {},
   "outputs": [
    {
     "name": "stdout",
     "output_type": "stream",
     "text": [
      "[0 1 2 3 4 5 6 7 8 0]\n"
     ]
    }
   ],
   "source": [
    "arr = np.arange(10)\n",
    "arr[arr.argmax()] = 0\n",
    "print(arr)"
   ]
  },
  {
   "cell_type": "markdown",
   "metadata": {},
   "source": [
    "Преобразовать массив из float в int"
   ]
  },
  {
   "cell_type": "code",
   "execution_count": 49,
   "metadata": {},
   "outputs": [
    {
     "name": "stdout",
     "output_type": "stream",
     "text": [
      "[0 0 0 0 0 0 0 0 0 0]\n"
     ]
    }
   ],
   "source": [
    "f_arr = np.random.random(10)\n",
    "print(f_arr.astype(int))"
   ]
  },
  {
   "cell_type": "markdown",
   "metadata": {},
   "source": [
    "Дан массив (10,2) координат, найти расстояние от каждой точки до каждой"
   ]
  },
  {
   "cell_type": "code",
   "execution_count": 53,
   "metadata": {},
   "outputs": [
    {
     "name": "stdout",
     "output_type": "stream",
     "text": [
      "[[ 0.77267978  0.50673203]\n",
      " [ 0.82784538  0.53837262]\n",
      " [ 0.97811735  0.83834364]\n",
      " [ 0.51308044  0.3142009 ]\n",
      " [ 0.33453078  0.06723931]\n",
      " [ 0.85001552  0.29197102]\n",
      " [ 0.25397554  0.04508832]\n",
      " [ 0.17638278  0.01879239]\n",
      " [ 0.2488276   0.34975813]\n",
      " [ 0.14233787  0.46256626]]\n",
      "Wall time: 0 ns\n",
      "[[ 0.          0.00404437  0.15217085  0.10446005  0.3851284   0.05210311\n",
      "   0.48216901  0.5936552   0.29906191  0.39928153]\n",
      " [ 0.00404437  0.          0.11256428  0.14932993  0.46532589  0.06120526\n",
      "   0.572656    0.69436713  0.37083702  0.47566715]\n",
      " [ 0.15217085  0.11256428  0.          0.49098494  1.00880556  0.31493312\n",
      "   1.15363537  1.31444257  0.77057935  0.83973598]\n",
      " [ 0.10446005  0.14932993  0.49098494  0.          0.09287001  0.11401941\n",
      "   0.13955693  0.2006315   0.07109388  0.15946233]\n",
      " [ 0.3851284   0.46532589  1.00880556  0.09287001  0.          0.31622886\n",
      "   0.00697981  0.02735789  0.08716192  0.19322151]\n",
      " [ 0.05210311  0.06120526  0.31493312  0.11401941  0.31622886  0.\n",
      "   0.41621473  0.52840763  0.36476627  0.52991039]\n",
      " [ 0.48216901  0.572656    1.15363537  0.13955693  0.00697981  0.41621473\n",
      "   0.          0.00671211  0.0928502   0.1867508 ]\n",
      " [ 0.5936552   0.69436713  1.31444257  0.2006315   0.02735789  0.52840763\n",
      "   0.00671211  0.          0.11478658  0.1980943 ]\n",
      " [ 0.29906191  0.37083702  0.77057935  0.07109388  0.08716192  0.36476627\n",
      "   0.0928502   0.11478658  0.          0.02406573]\n",
      " [ 0.39928153  0.47566715  0.83973598  0.15946233  0.19322151  0.52991039\n",
      "   0.1867508   0.1980943   0.02406573  0.        ]]\n"
     ]
    }
   ],
   "source": [
    "cords = np.random.random(20).reshape((10,2))\n",
    "print(cords)\n",
    "distance = np.sum((cords[:,np.newaxis,:] - cords[np.newaxis,:,:]) ** 2, axis=-1)\n",
    "print(distance)"
   ]
  },
  {
   "cell_type": "markdown",
   "metadata": {},
   "source": [
    "Случайно расположить p элементов в 2D массив"
   ]
  },
  {
   "cell_type": "code",
   "execution_count": 59,
   "metadata": {},
   "outputs": [
    {
     "name": "stdout",
     "output_type": "stream",
     "text": [
      "[[ 0.9397343   0.12988743]\n",
      " [ 0.35873832  0.63155465]\n",
      " [ 0.21000588  0.38439097]\n",
      " [ 0.32966285  0.5457303 ]\n",
      " [ 0.95393601  0.63642292]]\n",
      "[ 1.  1.  1.  1.]\n",
      "[[ 0.9397343   0.12988743]\n",
      " [ 1.          1.        ]\n",
      " [ 1.          0.38439097]\n",
      " [ 0.32966285  1.        ]\n",
      " [ 0.95393601  0.63642292]]\n"
     ]
    }
   ],
   "source": [
    "arr2d = np.random.random(10).reshape((5,2))\n",
    "print(arr2d)\n",
    "arr_p = np.ones(4)\n",
    "print(arr_p)\n",
    "np.put(arr2d, np.random.choice(np.arange(5 * 2), 4, replace=False), arr_p)\n",
    "print(arr2d)"
   ]
  },
  {
   "cell_type": "markdown",
   "metadata": {},
   "source": [
    "Дан вектор [1, 2, 3, 4, 5], построить новый вектор с тремя нулями между каждым значением"
   ]
  },
  {
   "cell_type": "code",
   "execution_count": 60,
   "metadata": {},
   "outputs": [
    {
     "name": "stdout",
     "output_type": "stream",
     "text": [
      "[1 0 0 0 2 0 0 0 3 0 0 0 4 0 0 0 5 0 0 0]\n"
     ]
    }
   ],
   "source": [
    "v = np.array([1, 2, 3, 4, 5])\n",
    "print(np.append(v[:, np.newaxis], np.zeros((len(v), 3), dtype=int), axis=1).ravel())"
   ]
  },
  {
   "cell_type": "markdown",
   "metadata": {},
   "source": [
    "Найти наиболее частое значение в массиве"
   ]
  },
  {
   "cell_type": "code",
   "execution_count": 62,
   "metadata": {},
   "outputs": [
    {
     "name": "stdout",
     "output_type": "stream",
     "text": [
      "1\n"
     ]
    }
   ],
   "source": [
    "arr = np.array([0,1,1,1,2,3,4,5,5])\n",
    "counts = np.bincount(arr)\n",
    "print(arr[np.argmax(counts)])"
   ]
  },
  {
   "cell_type": "markdown",
   "metadata": {},
   "source": [
    "Найти n наибольших значений в массиве"
   ]
  },
  {
   "cell_type": "code",
   "execution_count": 66,
   "metadata": {},
   "outputs": [
    {
     "name": "stdout",
     "output_type": "stream",
     "text": [
      "[ 0.83865427  0.89045858  0.8951481   0.986707  ]\n"
     ]
    }
   ],
   "source": [
    "n = 4\n",
    "arr = np.random.random(20)\n",
    "print(arr[arr.argsort()[n * -1:]])"
   ]
  },
  {
   "cell_type": "markdown",
   "metadata": {},
   "source": [
    "## Pandas - изучение данных"
   ]
  },
  {
   "cell_type": "markdown",
   "metadata": {
    "collapsed": true
   },
   "source": [
    "Перейти по ссылке [Kaggle]( https://www.kaggle.com/openfoodfacts/world-food-facts)"
   ]
  },
  {
   "cell_type": "markdown",
   "metadata": {
    "collapsed": true
   },
   "source": [
    "Скачать датасет на свой компьютер и распаковать"
   ]
  },
  {
   "cell_type": "markdown",
   "metadata": {
    "collapsed": true
   },
   "source": [
    "Считать csv файл в датафрейм food"
   ]
  },
  {
   "cell_type": "code",
   "execution_count": 71,
   "metadata": {},
   "outputs": [],
   "source": [
    "import pandas as pd\n",
    "food = pd.read_csv('en.openfoodfacts.org.products.tsv', sep='\\t', low_memory=False)"
   ]
  },
  {
   "cell_type": "markdown",
   "metadata": {
    "collapsed": true
   },
   "source": [
    "Посмотреть первые 5 записей"
   ]
  },
  {
   "cell_type": "code",
   "execution_count": 74,
   "metadata": {},
   "outputs": [
    {
     "name": "stdout",
     "output_type": "stream",
     "text": [
      "            code                                                url  \\\n",
      "0  0000000003087  http://world-en.openfoodfacts.org/product/0000...   \n",
      "1  0000000004530  http://world-en.openfoodfacts.org/product/0000...   \n",
      "2  0000000004559  http://world-en.openfoodfacts.org/product/0000...   \n",
      "3  0000000016087  http://world-en.openfoodfacts.org/product/0000...   \n",
      "4  0000000016094  http://world-en.openfoodfacts.org/product/0000...   \n",
      "\n",
      "                      creator   created_t      created_datetime  \\\n",
      "0  openfoodfacts-contributors  1474103866  2016-09-17T09:17:46Z   \n",
      "1             usda-ndb-import  1489069957  2017-03-09T14:32:37Z   \n",
      "2             usda-ndb-import  1489069957  2017-03-09T14:32:37Z   \n",
      "3             usda-ndb-import  1489055731  2017-03-09T10:35:31Z   \n",
      "4             usda-ndb-import  1489055653  2017-03-09T10:34:13Z   \n",
      "\n",
      "  last_modified_t last_modified_datetime                    product_name  \\\n",
      "0      1474103893   2016-09-17T09:18:13Z              Farine de blé noir   \n",
      "1      1489069957   2017-03-09T14:32:37Z  Banana Chips Sweetened (Whole)   \n",
      "2      1489069957   2017-03-09T14:32:37Z                         Peanuts   \n",
      "3      1489055731   2017-03-09T10:35:31Z          Organic Salted Nut Mix   \n",
      "4      1489055653   2017-03-09T10:34:13Z                 Organic Polenta   \n",
      "\n",
      "  generic_name quantity         ...         fruits-vegetables-nuts_100g  \\\n",
      "0          NaN      1kg         ...                                 NaN   \n",
      "1          NaN      NaN         ...                                 NaN   \n",
      "2          NaN      NaN         ...                                 NaN   \n",
      "3          NaN      NaN         ...                                 NaN   \n",
      "4          NaN      NaN         ...                                 NaN   \n",
      "\n",
      "  fruits-vegetables-nuts-estimate_100g collagen-meat-protein-ratio_100g  \\\n",
      "0                                  NaN                              NaN   \n",
      "1                                  NaN                              NaN   \n",
      "2                                  NaN                              NaN   \n",
      "3                                  NaN                              NaN   \n",
      "4                                  NaN                              NaN   \n",
      "\n",
      "  cocoa_100g chlorophyl_100g carbon-footprint_100g nutrition-score-fr_100g  \\\n",
      "0        NaN             NaN                   NaN                     NaN   \n",
      "1        NaN             NaN                   NaN                    14.0   \n",
      "2        NaN             NaN                   NaN                     0.0   \n",
      "3        NaN             NaN                   NaN                    12.0   \n",
      "4        NaN             NaN                   NaN                     NaN   \n",
      "\n",
      "  nutrition-score-uk_100g glycemic-index_100g water-hardness_100g  \n",
      "0                     NaN                 NaN                 NaN  \n",
      "1                    14.0                 NaN                 NaN  \n",
      "2                     0.0                 NaN                 NaN  \n",
      "3                    12.0                 NaN                 NaN  \n",
      "4                     NaN                 NaN                 NaN  \n",
      "\n",
      "[5 rows x 163 columns]\n"
     ]
    }
   ],
   "source": [
    "print(food.iloc[:5])"
   ]
  },
  {
   "cell_type": "markdown",
   "metadata": {
    "collapsed": true
   },
   "source": [
    "Сколько наблюдений в наборе данных?\n"
   ]
  },
  {
   "cell_type": "code",
   "execution_count": 75,
   "metadata": {},
   "outputs": [
    {
     "name": "stdout",
     "output_type": "stream",
     "text": [
      "356027\n"
     ]
    }
   ],
   "source": [
    "print(len(food))"
   ]
  },
  {
   "cell_type": "markdown",
   "metadata": {
    "collapsed": true
   },
   "source": [
    "Сколько столбцов в наборе данных?"
   ]
  },
  {
   "cell_type": "code",
   "execution_count": 76,
   "metadata": {},
   "outputs": [
    {
     "name": "stdout",
     "output_type": "stream",
     "text": [
      "163\n"
     ]
    }
   ],
   "source": [
    "print(len(food.columns))"
   ]
  },
  {
   "cell_type": "markdown",
   "metadata": {
    "collapsed": true
   },
   "source": [
    "Напечатайте все названия столбцов"
   ]
  },
  {
   "cell_type": "code",
   "execution_count": 77,
   "metadata": {},
   "outputs": [
    {
     "name": "stdout",
     "output_type": "stream",
     "text": [
      "Index([u'code', u'url', u'creator', u'created_t', u'created_datetime',\n",
      "       u'last_modified_t', u'last_modified_datetime', u'product_name',\n",
      "       u'generic_name', u'quantity',\n",
      "       ...\n",
      "       u'fruits-vegetables-nuts_100g', u'fruits-vegetables-nuts-estimate_100g',\n",
      "       u'collagen-meat-protein-ratio_100g', u'cocoa_100g', u'chlorophyl_100g',\n",
      "       u'carbon-footprint_100g', u'nutrition-score-fr_100g',\n",
      "       u'nutrition-score-uk_100g', u'glycemic-index_100g',\n",
      "       u'water-hardness_100g'],\n",
      "      dtype='object', length=163)\n"
     ]
    }
   ],
   "source": [
    "print(food.columns)"
   ]
  },
  {
   "cell_type": "markdown",
   "metadata": {
    "collapsed": true
   },
   "source": [
    "Какое название у 105 столбца?"
   ]
  },
  {
   "cell_type": "code",
   "execution_count": 79,
   "metadata": {},
   "outputs": [
    {
     "name": "stdout",
     "output_type": "stream",
     "text": [
      "-glucose_100g\n"
     ]
    }
   ],
   "source": [
    "print(food.columns[104])"
   ]
  },
  {
   "cell_type": "markdown",
   "metadata": {},
   "source": [
    "Какой тип наблюдений в 105 столбце?"
   ]
  },
  {
   "cell_type": "code",
   "execution_count": 82,
   "metadata": {},
   "outputs": [
    {
     "name": "stdout",
     "output_type": "stream",
     "text": [
      "float64\n"
     ]
    }
   ],
   "source": [
    "print(food.iloc[:, 105].dtype)"
   ]
  },
  {
   "cell_type": "markdown",
   "metadata": {},
   "source": [
    "Как проиндексирован набор данных?"
   ]
  },
  {
   "cell_type": "code",
   "execution_count": 85,
   "metadata": {},
   "outputs": [
    {
     "name": "stdout",
     "output_type": "stream",
     "text": [
      "RangeIndex(start=0, stop=356027, step=1)\n"
     ]
    }
   ],
   "source": [
    "print(food.index)"
   ]
  },
  {
   "cell_type": "markdown",
   "metadata": {},
   "source": [
    "Каково значение имени продукта в 19-м наблюдении?"
   ]
  },
  {
   "cell_type": "code",
   "execution_count": 84,
   "metadata": {},
   "outputs": [
    {
     "name": "stdout",
     "output_type": "stream",
     "text": [
      "Organic Oat Groats\n"
     ]
    }
   ],
   "source": [
    "print(food['product_name'][19])"
   ]
  },
  {
   "cell_type": "markdown",
   "metadata": {},
   "source": [
    "## Pandas - фильтрация данных"
   ]
  },
  {
   "cell_type": "markdown",
   "metadata": {},
   "source": [
    "Считать данные по  [адресу](https://raw.githubusercontent.com/justmarkham/DAT8/master/data/chipotle.tsv). \n",
    "Присвоить переменной chipo"
   ]
  },
  {
   "cell_type": "code",
   "execution_count": 86,
   "metadata": {
    "collapsed": true
   },
   "outputs": [],
   "source": [
    "chipo = pd.read_csv('https://raw.githubusercontent.com/justmarkham/DAT8/master/data/chipotle.tsv', sep='\\t', low_memory=False)"
   ]
  },
  {
   "cell_type": "markdown",
   "metadata": {},
   "source": [
    "Как много продуктов стоят более чем $10.00?"
   ]
  },
  {
   "cell_type": "code",
   "execution_count": 114,
   "metadata": {},
   "outputs": [
    {
     "name": "stdout",
     "output_type": "stream",
     "text": [
      "1130\n"
     ]
    }
   ],
   "source": [
    "print(len(chipo['item_price'][chipo['item_price'].replace('[\\$]', '', regex=True).astype(float) > 10.]))"
   ]
  },
  {
   "cell_type": "markdown",
   "metadata": {},
   "source": [
    "Какова цена каждого предмета? Напечатать столбцы item_name и item_price"
   ]
  },
  {
   "cell_type": "code",
   "execution_count": 88,
   "metadata": {},
   "outputs": [
    {
     "name": "stdout",
     "output_type": "stream",
     "text": [
      "                                  item_name item_price\n",
      "0              Chips and Fresh Tomato Salsa     $2.39 \n",
      "1                                      Izze     $3.39 \n",
      "2                          Nantucket Nectar     $3.39 \n",
      "3     Chips and Tomatillo-Green Chili Salsa     $2.39 \n",
      "4                              Chicken Bowl    $16.98 \n",
      "5                              Chicken Bowl    $10.98 \n",
      "6                             Side of Chips     $1.69 \n",
      "7                             Steak Burrito    $11.75 \n",
      "8                          Steak Soft Tacos     $9.25 \n",
      "9                             Steak Burrito     $9.25 \n",
      "10                      Chips and Guacamole     $4.45 \n",
      "11                     Chicken Crispy Tacos     $8.75 \n",
      "12                       Chicken Soft Tacos     $8.75 \n",
      "13                             Chicken Bowl    $11.25 \n",
      "14                      Chips and Guacamole     $4.45 \n",
      "15    Chips and Tomatillo-Green Chili Salsa     $2.39 \n",
      "16                          Chicken Burrito     $8.49 \n",
      "17                          Chicken Burrito     $8.49 \n",
      "18                              Canned Soda     $2.18 \n",
      "19                             Chicken Bowl     $8.75 \n",
      "20                      Chips and Guacamole     $4.45 \n",
      "21                         Barbacoa Burrito     $8.99 \n",
      "22                         Nantucket Nectar     $3.39 \n",
      "23                          Chicken Burrito    $10.98 \n",
      "24                                     Izze     $3.39 \n",
      "25             Chips and Fresh Tomato Salsa     $2.39 \n",
      "26                             Chicken Bowl     $8.49 \n",
      "27                         Carnitas Burrito     $8.99 \n",
      "28                              Canned Soda     $1.09 \n",
      "29                          Chicken Burrito     $8.49 \n",
      "...                                     ...        ...\n",
      "4592                       Barbacoa Burrito    $11.75 \n",
      "4593                          Carnitas Bowl    $11.75 \n",
      "4594                          Barbacoa Bowl    $11.75 \n",
      "4595                           Chicken Bowl     $8.75 \n",
      "4596                    Chips and Guacamole     $4.45 \n",
      "4597                      Canned Soft Drink     $1.25 \n",
      "4598                          Bottled Water     $1.50 \n",
      "4599                           Chicken Bowl     $8.75 \n",
      "4600                    Chips and Guacamole     $4.45 \n",
      "4601                      Canned Soft Drink     $1.25 \n",
      "4602                       Barbacoa Burrito     $9.25 \n",
      "4603                       Barbacoa Burrito     $9.25 \n",
      "4604                           Chicken Bowl     $8.75 \n",
      "4605                    Chips and Guacamole     $4.45 \n",
      "4606                      Canned Soft Drink     $1.25 \n",
      "4607                          Steak Burrito    $11.75 \n",
      "4608                         Veggie Burrito    $11.25 \n",
      "4609                      Canned Soft Drink     $1.25 \n",
      "4610                          Steak Burrito    $11.75 \n",
      "4611                         Veggie Burrito    $11.25 \n",
      "4612                          Carnitas Bowl     $9.25 \n",
      "4613                                  Chips     $2.15 \n",
      "4614                          Bottled Water     $1.50 \n",
      "4615                     Chicken Soft Tacos     $8.75 \n",
      "4616                    Chips and Guacamole     $4.45 \n",
      "4617                          Steak Burrito    $11.75 \n",
      "4618                          Steak Burrito    $11.75 \n",
      "4619                     Chicken Salad Bowl    $11.25 \n",
      "4620                     Chicken Salad Bowl     $8.75 \n",
      "4621                     Chicken Salad Bowl     $8.75 \n",
      "\n",
      "[4622 rows x 2 columns]\n"
     ]
    }
   ],
   "source": [
    "print(chipo[['item_name', 'item_price']])"
   ]
  },
  {
   "cell_type": "markdown",
   "metadata": {},
   "source": [
    "Отсортировать по имени предмета"
   ]
  },
  {
   "cell_type": "code",
   "execution_count": 105,
   "metadata": {},
   "outputs": [
    {
     "name": "stdout",
     "output_type": "stream",
     "text": [
      "      order_id  quantity          item_name  \\\n",
      "3389      1360         2  6 Pack Soft Drink   \n",
      "341        148         1  6 Pack Soft Drink   \n",
      "1849       749         1  6 Pack Soft Drink   \n",
      "1860       754         1  6 Pack Soft Drink   \n",
      "2713      1076         1  6 Pack Soft Drink   \n",
      "3422      1373         1  6 Pack Soft Drink   \n",
      "553        230         1  6 Pack Soft Drink   \n",
      "1916       774         1  6 Pack Soft Drink   \n",
      "1922       776         1  6 Pack Soft Drink   \n",
      "1937       784         1  6 Pack Soft Drink   \n",
      "3836      1537         1  6 Pack Soft Drink   \n",
      "298        129         1  6 Pack Soft Drink   \n",
      "1976       798         1  6 Pack Soft Drink   \n",
      "1167       481         1  6 Pack Soft Drink   \n",
      "3875      1554         1  6 Pack Soft Drink   \n",
      "1124       465         1  6 Pack Soft Drink   \n",
      "3886      1558         1  6 Pack Soft Drink   \n",
      "2108       849         1  6 Pack Soft Drink   \n",
      "3010      1196         1  6 Pack Soft Drink   \n",
      "4535      1803         1  6 Pack Soft Drink   \n",
      "4169      1664         1  6 Pack Soft Drink   \n",
      "4174      1666         1  6 Pack Soft Drink   \n",
      "4527      1800         1  6 Pack Soft Drink   \n",
      "4522      1798         1  6 Pack Soft Drink   \n",
      "3806      1525         1  6 Pack Soft Drink   \n",
      "2389       949         1  6 Pack Soft Drink   \n",
      "3132      1248         1  6 Pack Soft Drink   \n",
      "3141      1253         1  6 Pack Soft Drink   \n",
      "639        264         1  6 Pack Soft Drink   \n",
      "1026       422         1  6 Pack Soft Drink   \n",
      "...        ...       ...                ...   \n",
      "2996      1192         1       Veggie Salad   \n",
      "3163      1263         1       Veggie Salad   \n",
      "4084      1635         1       Veggie Salad   \n",
      "1694       686         1       Veggie Salad   \n",
      "2756      1094         1       Veggie Salad   \n",
      "4201      1677         1  Veggie Salad Bowl   \n",
      "1884       760         1  Veggie Salad Bowl   \n",
      "455        195         1  Veggie Salad Bowl   \n",
      "3223      1289         1  Veggie Salad Bowl   \n",
      "2223       896         1  Veggie Salad Bowl   \n",
      "2269       913         1  Veggie Salad Bowl   \n",
      "4541      1805         1  Veggie Salad Bowl   \n",
      "3293      1321         1  Veggie Salad Bowl   \n",
      "186         83         1  Veggie Salad Bowl   \n",
      "960        394         1  Veggie Salad Bowl   \n",
      "1316       536         1  Veggie Salad Bowl   \n",
      "2156       869         1  Veggie Salad Bowl   \n",
      "4261      1700         1  Veggie Salad Bowl   \n",
      "295        128         1  Veggie Salad Bowl   \n",
      "4573      1818         1  Veggie Salad Bowl   \n",
      "2683      1066         1  Veggie Salad Bowl   \n",
      "496        207         1  Veggie Salad Bowl   \n",
      "4109      1646         1  Veggie Salad Bowl   \n",
      "738        304         1  Veggie Soft Tacos   \n",
      "3889      1559         2  Veggie Soft Tacos   \n",
      "2384       948         1  Veggie Soft Tacos   \n",
      "781        322         1  Veggie Soft Tacos   \n",
      "2851      1132         1  Veggie Soft Tacos   \n",
      "1699       688         1  Veggie Soft Tacos   \n",
      "1395       567         1  Veggie Soft Tacos   \n",
      "\n",
      "                                     choice_description item_price  \n",
      "3389                                        [Diet Coke]    $12.98   \n",
      "341                                         [Diet Coke]     $6.49   \n",
      "1849                                             [Coke]     $6.49   \n",
      "1860                                        [Diet Coke]     $6.49   \n",
      "2713                                             [Coke]     $6.49   \n",
      "3422                                             [Coke]     $6.49   \n",
      "553                                         [Diet Coke]     $6.49   \n",
      "1916                                        [Diet Coke]     $6.49   \n",
      "1922                                             [Coke]     $6.49   \n",
      "1937                                        [Diet Coke]     $6.49   \n",
      "3836                                             [Coke]     $6.49   \n",
      "298                                            [Sprite]     $6.49   \n",
      "1976                                        [Diet Coke]     $6.49   \n",
      "1167                                             [Coke]     $6.49   \n",
      "3875                                        [Diet Coke]     $6.49   \n",
      "1124                                             [Coke]     $6.49   \n",
      "3886                                        [Diet Coke]     $6.49   \n",
      "2108                                             [Coke]     $6.49   \n",
      "3010                                        [Diet Coke]     $6.49   \n",
      "4535                                         [Lemonade]     $6.49   \n",
      "4169                                        [Diet Coke]     $6.49   \n",
      "4174                                             [Coke]     $6.49   \n",
      "4527                                        [Diet Coke]     $6.49   \n",
      "4522                                        [Diet Coke]     $6.49   \n",
      "3806                                           [Sprite]     $6.49   \n",
      "2389                                             [Coke]     $6.49   \n",
      "3132                                        [Diet Coke]     $6.49   \n",
      "3141                                         [Lemonade]     $6.49   \n",
      "639                                         [Diet Coke]     $6.49   \n",
      "1026                                           [Sprite]     $6.49   \n",
      "...                                                 ...        ...  \n",
      "2996  [Roasted Chili Corn Salsa (Medium), [Black Bea...     $8.49   \n",
      "3163  [[Fresh Tomato Salsa (Mild), Roasted Chili Cor...     $8.49   \n",
      "4084  [[Fresh Tomato Salsa (Mild), Roasted Chili Cor...     $8.49   \n",
      "1694  [[Fresh Tomato Salsa (Mild), Roasted Chili Cor...     $8.49   \n",
      "2756  [[Tomatillo-Green Chili Salsa (Medium), Roaste...     $8.49   \n",
      "4201  [Fresh Tomato Salsa, [Fajita Vegetables, Black...    $11.25   \n",
      "1884  [Fresh Tomato Salsa, [Fajita Vegetables, Rice,...    $11.25   \n",
      "455   [Fresh Tomato Salsa, [Fajita Vegetables, Rice,...    $11.25   \n",
      "3223  [Tomatillo Red Chili Salsa, [Fajita Vegetables...    $11.25   \n",
      "2223      [Roasted Chili Corn Salsa, Fajita Vegetables]     $8.75   \n",
      "2269  [Fresh Tomato Salsa, [Fajita Vegetables, Rice,...     $8.75   \n",
      "4541  [Tomatillo Green Chili Salsa, [Fajita Vegetabl...     $8.75   \n",
      "3293  [Fresh Tomato Salsa, [Rice, Black Beans, Chees...     $8.75   \n",
      "186   [Fresh Tomato Salsa, [Fajita Vegetables, Rice,...    $11.25   \n",
      "960   [Fresh Tomato Salsa, [Fajita Vegetables, Lettu...     $8.75   \n",
      "1316  [Fresh Tomato Salsa, [Fajita Vegetables, Rice,...     $8.75   \n",
      "2156  [Tomatillo Red Chili Salsa, [Fajita Vegetables...    $11.25   \n",
      "4261  [Fresh Tomato Salsa, [Fajita Vegetables, Rice,...    $11.25   \n",
      "295   [Fresh Tomato Salsa, [Fajita Vegetables, Lettu...    $11.25   \n",
      "4573  [Fresh Tomato Salsa, [Fajita Vegetables, Pinto...     $8.75   \n",
      "2683  [Roasted Chili Corn Salsa, [Fajita Vegetables,...     $8.75   \n",
      "496   [Fresh Tomato Salsa, [Rice, Lettuce, Guacamole...    $11.25   \n",
      "4109  [Tomatillo Red Chili Salsa, [Fajita Vegetables...    $11.25   \n",
      "738   [Tomatillo Red Chili Salsa, [Fajita Vegetables...    $11.25   \n",
      "3889  [Fresh Tomato Salsa (Mild), [Black Beans, Rice...    $16.98   \n",
      "2384  [Roasted Chili Corn Salsa, [Fajita Vegetables,...     $8.75   \n",
      "781   [Fresh Tomato Salsa, [Black Beans, Cheese, Sou...     $8.75   \n",
      "2851  [Roasted Chili Corn Salsa (Medium), [Black Bea...     $8.49   \n",
      "1699  [Fresh Tomato Salsa, [Fajita Vegetables, Rice,...    $11.25   \n",
      "1395  [Fresh Tomato Salsa (Mild), [Pinto Beans, Rice...     $8.49   \n",
      "\n",
      "[4622 rows x 5 columns]\n"
     ]
    }
   ],
   "source": [
    "print(chipo.sort_values(by=['item_name']))"
   ]
  },
  {
   "cell_type": "markdown",
   "metadata": {},
   "source": [
    "Сколько было заказано самого дорогого предмета?"
   ]
  },
  {
   "cell_type": "code",
   "execution_count": 125,
   "metadata": {},
   "outputs": [
    {
     "name": "stdout",
     "output_type": "stream",
     "text": [
      "130\n"
     ]
    }
   ],
   "source": [
    "most_exp_idx = chipo['item_price'].replace('[\\$]', '', regex=True).astype(float).argmax()\n",
    "most_exp_name = chipo['item_name'][most_exp_idx]\n",
    "print(chipo['quantity'][chipo['item_name'] == most_exp_name].sum())"
   ]
  },
  {
   "cell_type": "markdown",
   "metadata": {},
   "source": [
    "Сколько раз был заказан предмет \"Veggie Salad Bowl\"?"
   ]
  },
  {
   "cell_type": "code",
   "execution_count": 115,
   "metadata": {},
   "outputs": [
    {
     "name": "stdout",
     "output_type": "stream",
     "text": [
      "18\n"
     ]
    }
   ],
   "source": [
    "print(len(chipo[chipo['item_name'] == 'Veggie Salad Bowl']))"
   ]
  },
  {
   "cell_type": "markdown",
   "metadata": {},
   "source": [
    "Сколько раз люди заказали более чем 1 предмет \"Canned Soda\"?"
   ]
  },
  {
   "cell_type": "code",
   "execution_count": 120,
   "metadata": {},
   "outputs": [
    {
     "name": "stdout",
     "output_type": "stream",
     "text": [
      "20\n"
     ]
    }
   ],
   "source": [
    "print(len(chipo[(chipo['item_name'] == 'Canned Soda') & (chipo['quantity'] > 1)]))"
   ]
  },
  {
   "cell_type": "code",
   "execution_count": null,
   "metadata": {
    "collapsed": true
   },
   "outputs": [],
   "source": []
  }
 ],
 "metadata": {
  "kernelspec": {
   "display_name": "Python 2",
   "language": "python",
   "name": "python2"
  },
  "language_info": {
   "codemirror_mode": {
    "name": "ipython",
    "version": 2
   },
   "file_extension": ".py",
   "mimetype": "text/x-python",
   "name": "python",
   "nbconvert_exporter": "python",
   "pygments_lexer": "ipython2",
   "version": "2.7.13"
  }
 },
 "nbformat": 4,
 "nbformat_minor": 2
}
